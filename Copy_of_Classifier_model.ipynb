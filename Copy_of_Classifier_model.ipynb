{
  "nbformat": 4,
  "nbformat_minor": 0,
  "metadata": {
    "colab": {
      "name": "Copy of Classifier model",
      "provenance": [],
      "collapsed_sections": [],
      "authorship_tag": "ABX9TyP+TPDoMYc/hYRoLl3JK2SD"
    },
    "kernelspec": {
      "name": "python3",
      "display_name": "Python 3"
    }
  },
  "cells": [
    {
      "cell_type": "markdown",
      "metadata": {
        "id": "8A4tuRy8ev1X",
        "colab_type": "text"
      },
      "source": [
        "Importing"
      ]
    },
    {
      "cell_type": "code",
      "metadata": {
        "id": "tAyHqHhuktA6",
        "colab_type": "code",
        "colab": {
          "base_uri": "https://localhost:8080/",
          "height": 71
        },
        "outputId": "ca81b8a9-0d89-48f7-c629-fed04462dab9"
      },
      "source": [
        "# importing libraries\n",
        "import numpy as np\n",
        "import pandas as pd\n",
        "import matplotlib.pyplot as plt\n",
        "import seaborn as sns \n",
        "import re\n",
        "import spacy\n",
        "\n",
        "%matplotlib inline\n",
        "\n",
        "# For precision, recall, etc.\n",
        "from sklearn.metrics import classification_report"
      ],
      "execution_count": 1,
      "outputs": [
        {
          "output_type": "stream",
          "text": [
            "/usr/local/lib/python3.6/dist-packages/statsmodels/tools/_testing.py:19: FutureWarning: pandas.util.testing is deprecated. Use the functions in the public API at pandas.testing instead.\n",
            "  import pandas.util.testing as tm\n"
          ],
          "name": "stderr"
        }
      ]
    },
    {
      "cell_type": "code",
      "metadata": {
        "id": "_gQldZCje2AJ",
        "colab_type": "code",
        "colab": {}
      },
      "source": [
        "# Importing data\n",
        "nlp = spacy.load('en_core_web_sm')\n",
        "dftrain = pd.read_csv('train.csv')\n",
        "dftest = pd.read_csv('test.csv')"
      ],
      "execution_count": 2,
      "outputs": []
    },
    {
      "cell_type": "markdown",
      "metadata": {
        "id": "t9S-ZTm4mQTG",
        "colab_type": "text"
      },
      "source": [
        "Perusing the data set\n",
        "\n",
        "> \n",
        "\n"
      ]
    },
    {
      "cell_type": "code",
      "metadata": {
        "id": "Ks4pxq9zmk0j",
        "colab_type": "code",
        "colab": {
          "base_uri": "https://localhost:8080/",
          "height": 204
        },
        "outputId": "b092b9a4-b347-415f-ab64-c522171f0968"
      },
      "source": [
        "#looking at what the data looks like\n",
        "dftrain.head()"
      ],
      "execution_count": 3,
      "outputs": [
        {
          "output_type": "execute_result",
          "data": {
            "text/html": [
              "<div>\n",
              "<style scoped>\n",
              "    .dataframe tbody tr th:only-of-type {\n",
              "        vertical-align: middle;\n",
              "    }\n",
              "\n",
              "    .dataframe tbody tr th {\n",
              "        vertical-align: top;\n",
              "    }\n",
              "\n",
              "    .dataframe thead th {\n",
              "        text-align: right;\n",
              "    }\n",
              "</style>\n",
              "<table border=\"1\" class=\"dataframe\">\n",
              "  <thead>\n",
              "    <tr style=\"text-align: right;\">\n",
              "      <th></th>\n",
              "      <th>sentiment</th>\n",
              "      <th>message</th>\n",
              "      <th>tweetid</th>\n",
              "    </tr>\n",
              "  </thead>\n",
              "  <tbody>\n",
              "    <tr>\n",
              "      <th>0</th>\n",
              "      <td>1</td>\n",
              "      <td>PolySciMajor EPA chief doesn't think carbon di...</td>\n",
              "      <td>625221</td>\n",
              "    </tr>\n",
              "    <tr>\n",
              "      <th>1</th>\n",
              "      <td>1</td>\n",
              "      <td>It's not like we lack evidence of anthropogeni...</td>\n",
              "      <td>126103</td>\n",
              "    </tr>\n",
              "    <tr>\n",
              "      <th>2</th>\n",
              "      <td>2</td>\n",
              "      <td>RT @RawStory: Researchers say we have three ye...</td>\n",
              "      <td>698562</td>\n",
              "    </tr>\n",
              "    <tr>\n",
              "      <th>3</th>\n",
              "      <td>1</td>\n",
              "      <td>#TodayinMaker# WIRED : 2016 was a pivotal year...</td>\n",
              "      <td>573736</td>\n",
              "    </tr>\n",
              "    <tr>\n",
              "      <th>4</th>\n",
              "      <td>1</td>\n",
              "      <td>RT @SoyNovioDeTodas: It's 2016, and a racist, ...</td>\n",
              "      <td>466954</td>\n",
              "    </tr>\n",
              "  </tbody>\n",
              "</table>\n",
              "</div>"
            ],
            "text/plain": [
              "   sentiment                                            message  tweetid\n",
              "0          1  PolySciMajor EPA chief doesn't think carbon di...   625221\n",
              "1          1  It's not like we lack evidence of anthropogeni...   126103\n",
              "2          2  RT @RawStory: Researchers say we have three ye...   698562\n",
              "3          1  #TodayinMaker# WIRED : 2016 was a pivotal year...   573736\n",
              "4          1  RT @SoyNovioDeTodas: It's 2016, and a racist, ...   466954"
            ]
          },
          "metadata": {
            "tags": []
          },
          "execution_count": 3
        }
      ]
    },
    {
      "cell_type": "markdown",
      "metadata": {
        "id": "C-6JWve0xXOF",
        "colab_type": "text"
      },
      "source": [
        "By calling .info() some of the observations are that there are no null values and missing data. Also it can be noted that there are integers and objects in the data set. The text data is intuitively the object data. "
      ]
    },
    {
      "cell_type": "code",
      "metadata": {
        "id": "YW2Tov8OxXgS",
        "colab_type": "code",
        "colab": {
          "base_uri": "https://localhost:8080/",
          "height": 187
        },
        "outputId": "82608632-5186-4928-eb7e-5879fd4883cf"
      },
      "source": [
        "#more details on rows and columns\n",
        "dftrain.info()"
      ],
      "execution_count": 4,
      "outputs": [
        {
          "output_type": "stream",
          "text": [
            "<class 'pandas.core.frame.DataFrame'>\n",
            "RangeIndex: 15819 entries, 0 to 15818\n",
            "Data columns (total 3 columns):\n",
            " #   Column     Non-Null Count  Dtype \n",
            "---  ------     --------------  ----- \n",
            " 0   sentiment  15819 non-null  int64 \n",
            " 1   message    15819 non-null  object\n",
            " 2   tweetid    15819 non-null  int64 \n",
            "dtypes: int64(2), object(1)\n",
            "memory usage: 370.9+ KB\n"
          ],
          "name": "stdout"
        }
      ]
    },
    {
      "cell_type": "markdown",
      "metadata": {
        "id": "VJ56bwj1rjx_",
        "colab_type": "text"
      },
      "source": [
        "We are able to see that the number of rows vs the number of unique tweet ids, they are the same, it is logical to use the tweet id as the index because is a unique number assigned to each tweet"
      ]
    },
    {
      "cell_type": "code",
      "metadata": {
        "id": "4Jj6nJEdynU4",
        "colab_type": "code",
        "colab": {
          "base_uri": "https://localhost:8080/",
          "height": 34
        },
        "outputId": "10bed8ea-1f22-49ca-b113-813d9396a840"
      },
      "source": [
        "#tweetid unique count, considering making it the index column\n",
        "dftrain['tweetid'].nunique()"
      ],
      "execution_count": 5,
      "outputs": [
        {
          "output_type": "execute_result",
          "data": {
            "text/plain": [
              "15819"
            ]
          },
          "metadata": {
            "tags": []
          },
          "execution_count": 5
        }
      ]
    },
    {
      "cell_type": "code",
      "metadata": {
        "id": "XZZGWBsHzIDZ",
        "colab_type": "code",
        "colab": {}
      },
      "source": [
        "# setting the tweet ID as index\n",
        "dftrain.set_index('tweetid', inplace=True) "
      ],
      "execution_count": 6,
      "outputs": []
    },
    {
      "cell_type": "code",
      "metadata": {
        "id": "MNZBPydiNZxE",
        "colab_type": "code",
        "colab": {
          "base_uri": "https://localhost:8080/",
          "height": 68
        },
        "outputId": "481bdb35-1504-431e-d92f-b87267bf6b77"
      },
      "source": [
        "dftrain.isnull().sum()"
      ],
      "execution_count": 7,
      "outputs": [
        {
          "output_type": "execute_result",
          "data": {
            "text/plain": [
              "sentiment    0\n",
              "message      0\n",
              "dtype: int64"
            ]
          },
          "metadata": {
            "tags": []
          },
          "execution_count": 7
        }
      ]
    },
    {
      "cell_type": "code",
      "metadata": {
        "id": "lZakVUTDNbab",
        "colab_type": "code",
        "colab": {
          "base_uri": "https://localhost:8080/",
          "height": 314
        },
        "outputId": "1bb19605-df4b-424b-e367-8345dc479926"
      },
      "source": [
        "# bar graph showing the sentiment\n",
        "sentiment_count = dftrain['sentiment'].value_counts()\n",
        "sns.set(style=\"darkgrid\")\n",
        "sns.barplot(sentiment_count.index, sentiment_count.values, alpha=0.9)\n",
        "plt.title('Frequency Distribution of sentiment', fontsize=22)\n",
        "plt.ylabel('Count', fontsize=22)\n",
        "plt.xlabel('Sentiment', fontsize=22)\n",
        "plt.show()"
      ],
      "execution_count": 15,
      "outputs": [
        {
          "output_type": "display_data",
          "data": {
            "image/png": "[encoded data removed]",
            "text/plain": [
              "<Figure size 432x288 with 1 Axes>"
            ]
          },
          "metadata": {
            "tags": []
          }
        }
      ]
    },
    {
      "cell_type": "code",
      "metadata": {
        "id": "siKHB9oP75v9",
        "colab_type": "code",
        "colab": {
          "base_uri": "https://localhost:8080/",
          "height": 102
        },
        "outputId": "24631449-08ad-4278-a39f-06bcc59bec87"
      },
      "source": [
        "# Percentage of the total rows\n",
        "sentiment_count/15819*100"
      ],
      "execution_count": 9,
      "outputs": [
        {
          "output_type": "execute_result",
          "data": {
            "text/plain": [
              " 1    53.922498\n",
              " 2    23.010304\n",
              " 0    14.874518\n",
              "-1     8.192680\n",
              "Name: sentiment, dtype: float64"
            ]
          },
          "metadata": {
            "tags": []
          },
          "execution_count": 9
        }
      ]
    },
    {
      "cell_type": "code",
      "metadata": {
        "id": "WR3XVZPOzeBl",
        "colab_type": "code",
        "colab": {}
      },
      "source": [
        "# Checking the average words in a tweet\n",
        "num_words = dftrain['message'].apply(lambda x: len(x.split()))\n",
        "num_words_mean, num_words_std = np.mean(num_words), np.std(num_words)\n",
        "\n",
        "# checking the average sentences in a tweet\n",
        "num_sentences = dftrain['message'].apply(lambda x: len(re.split( '~ ...' ,'~'.join(x.split('.')))))\n",
        "num_sentences_mean = np.mean(num_sentences)"
      ],
      "execution_count": 10,
      "outputs": []
    },
    {
      "cell_type": "code",
      "metadata": {
        "id": "XngfrBX3001O",
        "colab_type": "code",
        "colab": {
          "base_uri": "https://localhost:8080/",
          "height": 34
        },
        "outputId": "c6da0e2e-fed4-4033-bbae-b54de3fa8927"
      },
      "source": [
        "# The average number of words per message/tweet\n",
        "num_words_mean"
      ],
      "execution_count": 11,
      "outputs": [
        {
          "output_type": "execute_result",
          "data": {
            "text/plain": [
              "17.685062266894242"
            ]
          },
          "metadata": {
            "tags": []
          },
          "execution_count": 11
        }
      ]
    },
    {
      "cell_type": "code",
      "metadata": {
        "id": "9XzgOaaJ1LyF",
        "colab_type": "code",
        "colab": {
          "base_uri": "https://localhost:8080/",
          "height": 34
        },
        "outputId": "721984e4-4014-4842-a65c-9fe3db900bf2"
      },
      "source": [
        "# The standard deviation of words\n",
        "num_words_std"
      ],
      "execution_count": 12,
      "outputs": [
        {
          "output_type": "execute_result",
          "data": {
            "text/plain": [
              "4.443768113870797"
            ]
          },
          "metadata": {
            "tags": []
          },
          "execution_count": 12
        }
      ]
    },
    {
      "cell_type": "code",
      "metadata": {
        "id": "d3I4ep8m1SMJ",
        "colab_type": "code",
        "colab": {
          "base_uri": "https://localhost:8080/",
          "height": 34
        },
        "outputId": "d214acde-0ab2-485f-90d7-9cc8f92c3be6"
      },
      "source": [
        "# The average sentences per message/tweet\n",
        "num_sentences_mean"
      ],
      "execution_count": 13,
      "outputs": [
        {
          "output_type": "execute_result",
          "data": {
            "text/plain": [
              "1.4003413616537075"
            ]
          },
          "metadata": {
            "tags": []
          },
          "execution_count": 13
        }
      ]
    },
    {
      "cell_type": "markdown",
      "metadata": {
        "id": "FdZrd0f24GTH",
        "colab_type": "text"
      },
      "source": [
        "It is prudent to remove stop words because they are adding unnecessary characters to the text data. "
      ]
    },
    {
      "cell_type": "code",
      "metadata": {
        "id": "v4SV7KMp4EMK",
        "colab_type": "code",
        "colab": {
          "base_uri": "https://localhost:8080/",
          "height": 231
        },
        "outputId": "495f4ee8-922f-4860-eed2-5d14e18ebaf6"
      },
      "source": [
        "from nltk.corpus import stopwords\n",
        "\n",
        "# Apply this code to every textual string\n",
        "word_list = message.split() \n",
        "filtered_words = [word for word in word_list if word not in stopwords.words('english')]\n",
        "message = ' '.join(filtered_words)"
      ],
      "execution_count": 14,
      "outputs": [
        {
          "output_type": "error",
          "ename": "NameError",
          "evalue": "ignored",
          "traceback": [
            "\u001b[0;31m---------------------------------------------------------------------------\u001b[0m",
            "\u001b[0;31mNameError\u001b[0m                                 Traceback (most recent call last)",
            "\u001b[0;32m<ipython-input-14-bb277a5b2d55>\u001b[0m in \u001b[0;36m<module>\u001b[0;34m()\u001b[0m\n\u001b[1;32m      2\u001b[0m \u001b[0;34m\u001b[0m\u001b[0m\n\u001b[1;32m      3\u001b[0m \u001b[0;31m# Apply this code to every textual string\u001b[0m\u001b[0;34m\u001b[0m\u001b[0;34m\u001b[0m\u001b[0;34m\u001b[0m\u001b[0m\n\u001b[0;32m----> 4\u001b[0;31m \u001b[0mword_list\u001b[0m \u001b[0;34m=\u001b[0m \u001b[0mmessage\u001b[0m\u001b[0;34m.\u001b[0m\u001b[0msplit\u001b[0m\u001b[0;34m(\u001b[0m\u001b[0;34m)\u001b[0m\u001b[0;34m\u001b[0m\u001b[0;34m\u001b[0m\u001b[0m\n\u001b[0m\u001b[1;32m      5\u001b[0m \u001b[0mfiltered_words\u001b[0m \u001b[0;34m=\u001b[0m \u001b[0;34m[\u001b[0m\u001b[0mword\u001b[0m \u001b[0;32mfor\u001b[0m \u001b[0mword\u001b[0m \u001b[0;32min\u001b[0m \u001b[0mword_list\u001b[0m \u001b[0;32mif\u001b[0m \u001b[0mword\u001b[0m \u001b[0;32mnot\u001b[0m \u001b[0;32min\u001b[0m \u001b[0mstopwords\u001b[0m\u001b[0;34m.\u001b[0m\u001b[0mwords\u001b[0m\u001b[0;34m(\u001b[0m\u001b[0;34m'english'\u001b[0m\u001b[0;34m)\u001b[0m\u001b[0;34m]\u001b[0m\u001b[0;34m\u001b[0m\u001b[0;34m\u001b[0m\u001b[0m\n\u001b[1;32m      6\u001b[0m \u001b[0mmessage\u001b[0m \u001b[0;34m=\u001b[0m \u001b[0;34m' '\u001b[0m\u001b[0;34m.\u001b[0m\u001b[0mjoin\u001b[0m\u001b[0;34m(\u001b[0m\u001b[0mfiltered_words\u001b[0m\u001b[0;34m)\u001b[0m\u001b[0;34m\u001b[0m\u001b[0;34m\u001b[0m\u001b[0m\n",
            "\u001b[0;31mNameError\u001b[0m: name 'message' is not defined"
          ]
        }
      ]
    },
    {
      "cell_type": "markdown",
      "metadata": {
        "id": "6b9y8-rLFhr9",
        "colab_type": "text"
      },
      "source": [
        "Pre-processing"
      ]
    },
    {
      "cell_type": "code",
      "metadata": {
        "id": "7wZO5s4XFvnX",
        "colab_type": "code",
        "colab": {}
      },
      "source": [
        "# labels\n",
        "y = dftrain['sentiment']\n",
        "\n",
        "# features\n",
        "X = dftrain.drop('sentiment', axis=1)"
      ],
      "execution_count": null,
      "outputs": []
    },
    {
      "cell_type": "code",
      "metadata": {
        "id": "9Z_UWExrGPIU",
        "colab_type": "code",
        "colab": {}
      },
      "source": [
        "# Transforming the Features\n",
        "X_transformed = pd.get_dummies(X, drop_first=True)"
      ],
      "execution_count": null,
      "outputs": []
    },
    {
      "cell_type": "code",
      "metadata": {
        "id": "fWyoCkHQGYBT",
        "colab_type": "code",
        "colab": {}
      },
      "source": [
        "from sklearn.model_selection import train_test_split"
      ],
      "execution_count": null,
      "outputs": []
    },
    {
      "cell_type": "code",
      "metadata": {
        "id": "V8TuQWBSGbDK",
        "colab_type": "code",
        "colab": {}
      },
      "source": [
        "X_train, X_test, y_train, y_test = train_test_split(X_transformed, y, test_size=0.2, random_state=50)"
      ],
      "execution_count": null,
      "outputs": []
    },
    {
      "cell_type": "markdown",
      "metadata": {
        "id": "OLDCbPk9Gji6",
        "colab_type": "text"
      },
      "source": [
        "Training data"
      ]
    },
    {
      "cell_type": "code",
      "metadata": {
        "id": "Y04Nqpv2Gm86",
        "colab_type": "code",
        "colab": {}
      },
      "source": [
        "from sklearn.linear_model import LogisticRegression"
      ],
      "execution_count": null,
      "outputs": []
    },
    {
      "cell_type": "code",
      "metadata": {
        "id": "UTKp-DnAGsdz",
        "colab_type": "code",
        "colab": {}
      },
      "source": [
        "lr = LogisticRegression()\n",
        "lr.fit(X_train, y_train)"
      ],
      "execution_count": null,
      "outputs": []
    },
    {
      "cell_type": "code",
      "metadata": {
        "id": "CTtKI2kXHTrs",
        "colab_type": "code",
        "colab": {}
      },
      "source": [
        "lr.intercept_[0]"
      ],
      "execution_count": null,
      "outputs": []
    },
    {
      "cell_type": "code",
      "metadata": {
        "id": "b7Z-wCvNIIkE",
        "colab_type": "code",
        "colab": {}
      },
      "source": [
        "# Predicting the model\n",
        "pred_lr = lr.predict(X_test)"
      ],
      "execution_count": null,
      "outputs": []
    },
    {
      "cell_type": "markdown",
      "metadata": {
        "id": "fkDAOyQ-Ljs8",
        "colab_type": "text"
      },
      "source": [
        "Assessing the model"
      ]
    },
    {
      "cell_type": "code",
      "metadata": {
        "id": "TrLKMFtTIwOW",
        "colab_type": "code",
        "colab": {}
      },
      "source": [
        "from sklearn.metrics import confusion_matrix"
      ],
      "execution_count": null,
      "outputs": []
    },
    {
      "cell_type": "code",
      "metadata": {
        "id": "MjERtsFHIxbW",
        "colab_type": "code",
        "colab": {}
      },
      "source": [
        "confusion_matrix(y_test, pred_lr)\n",
        "labels = ['-1: Anti', '0: Neutral', '1: Pro', '2: News']\n",
        "\n",
        "pd.DataFrame(data=confusion_matrix(y_test, pred_lr), index=labels, columns=labels)"
      ],
      "execution_count": null,
      "outputs": []
    },
    {
      "cell_type": "code",
      "metadata": {
        "id": "yLyJEKA1Kkzk",
        "colab_type": "code",
        "colab": {}
      },
      "source": [
        "# Classification report\n",
        "print('Classification Report')\n",
        "print(classification_report(y_test, pred_lr, target_names=['-1: Anti', '0: Neutral', '1: Pro', '2: News']))"
      ],
      "execution_count": null,
      "outputs": []
    },
    {
      "cell_type": "markdown",
      "metadata": {
        "id": "4AsFweVMGsKj",
        "colab_type": "text"
      },
      "source": [
        ""
      ]
    }
  ]
}